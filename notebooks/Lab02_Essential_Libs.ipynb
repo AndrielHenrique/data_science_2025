{
 "cells": [
  {
   "cell_type": "markdown",
   "metadata": {},
   "source": [
    "# A Importância do NumPy na Ciência de Dados e Computação Científica\n",
    "\n",
    "NumPy (Numerical Python) é uma biblioteca fundamental para computação científica em Python. Ele fornece:\n",
    "- Objetos de array multidimensionais de alto desempenho\n",
    "- Ferramentas para trabalhar com esses arrays\n",
    "- Funções matemáticas otimizadas\n",
    "\n",
    "Vamos explorar por que o NumPy é tão importante e mostrar alguns exemplos práticos."
   ]
  },
  {
   "cell_type": "markdown",
   "metadata": {},
   "source": [
    "## Por que o NumPy é importante?\n",
    "\n",
    "1. **Desempenho**: Operações vetorizadas são muito mais rápidas que loops em Python puro\n",
    "2. **Eficiência de memória**: Arrays NumPy ocupam menos espaço que listas Python\n",
    "3. **Funcionalidades avançadas**: Álgebra linear, transformadas de Fourier, geração de números aleatórios\n",
    "4. **Base para outras bibliotecas**: Pandas, SciPy, scikit-learn e matplotlib são construídos sobre NumPy\n",
    "5. **Interface unificada**: Sintaxe consistente para operações com arrays"
   ]
  },
  {
   "cell_type": "code",
   "execution_count": null,
   "metadata": {},
   "outputs": [],
   "source": [
    "# Operações matemáticas \n",
    "\n"
   ]
  },
  {
   "cell_type": "markdown",
   "metadata": {},
   "source": [
    "# Exercícios com NumPy - Operações Simples com Vetores e Matrizes"
   ]
  },
  {
   "cell_type": "markdown",
   "metadata": {},
   "source": [
    "## Exercício 1: Cálculo de Média Ponderada\n",
    "\n",
    "Você é professor de uma disciplina e precisa calcular a nota final dos alunos usando um sistema de pesos diferentes para cada avaliação. \n",
    "\n",
    "Dados:\n",
    "- Notas de um aluno: `[7.5, 8.0, 6.5, 9.0]` (quatro avaliações)\n",
    "- Pesos respectivos: `[0.2, 0.3, 0.2, 0.3]`\n",
    "\n",
    "**Sua tarefa:**\n",
    "1. Crie dois arrays NumPy com os dados fornecidos\n",
    "2. Calcule a média ponderada usando operações vetorizadas\n",
    "3. Arredonde o resultado para 1 casa decimal\n",
    "4. Exiba o resultado final\n",
    "\n",
    "**Dica:**  \n",
    "Lembre-se que média ponderada = Σ(nota × peso) / Σ(pesos)"
   ]
  },
  {
   "cell_type": "markdown",
   "metadata": {},
   "source": [
    "## Exercício 2: Conversão de Temperaturas\n",
    "\n",
    "Você está trabalhando com dados meteorológicos e precisa converter uma série de temperaturas de Celsius para Fahrenheit.\n",
    "\n",
    "Dados:\n",
    "- Temperaturas em Celsius: `[0, 10, 20, 30, 40]`\n",
    "\n",
    "**Sua tarefa:**\n",
    "1. Crie um array NumPy com as temperaturas em Celsius\n",
    "2. Aplique a fórmula de conversão:  \n",
    "   `Fahrenheit = (Celsius × 9/5) + 32`\n",
    "3. Crie um novo array com as temperaturas convertidas\n",
    "4. Exiba ambos os arrays (Celsius e Fahrenheit) para comparação\n",
    "\n",
    "**Dica:**  \n",
    "NumPy permite aplicar operações matemáticas a arrays inteiros sem necessidade de loops."
   ]
  }
 ],
 "metadata": {
  "kernelspec": {
   "display_name": "base",
   "language": "python",
   "name": "python3"
  },
  "language_info": {
   "codemirror_mode": {
    "name": "ipython",
    "version": 3
   },
   "file_extension": ".py",
   "mimetype": "text/x-python",
   "name": "python",
   "nbconvert_exporter": "python",
   "pygments_lexer": "ipython3",
   "version": "3.11.7"
  }
 },
 "nbformat": 4,
 "nbformat_minor": 2
}
